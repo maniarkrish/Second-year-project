{
 "cells": [
  {
   "cell_type": "code",
   "execution_count": 68,
   "metadata": {},
   "outputs": [],
   "source": [
    "#Import pulp modeler function\n",
    "from pulp import LpProblem, LpVariable, LpStatus, LpMinimize, GLPK, value"
   ]
  },
  {
   "cell_type": "code",
   "execution_count": 69,
   "metadata": {},
   "outputs": [],
   "source": [
    "import pandas as pd\n",
    "df = pd.read_csv('finalminiprojectdata.csv')"
   ]
  },
  {
   "cell_type": "code",
   "execution_count": 70,
   "metadata": {},
   "outputs": [
    {
     "name": "stdout",
     "output_type": "stream",
     "text": [
      "28171\n"
     ]
    }
   ],
   "source": [
    "#Calculating demands for each 6 destinations\n",
    "demand1 = df[df[\"Destination\"] ==  \"Back Bay\"]\n",
    "sumofdemand1 = demand1[\"Demand\"].sum()\n",
    "\n",
    "demand1 = df[df[\"Destination\"] ==  \"Beacon Hill\"]\n",
    "sumofdemand2 = demand1[\"Demand\"].sum()\n",
    "\n",
    "demand1 = df[df[\"Destination\"] ==  \"Financial District\"]\n",
    "sumofdemand3 = demand1[\"Demand\"].sum()\n",
    "\n",
    "demand1 = df[df[\"Destination\"] ==  \"North Station\"]\n",
    "sumofdemand4 = demand1[\"Demand\"].sum()\n",
    "\n",
    "demand1 = df[df[\"Destination\"] ==  \"Theatre District\"]\n",
    "sumofdemand5 = demand1[\"Demand\"].sum()\n",
    "\n",
    "demand1 = df[df[\"Destination\"] ==  \"West End\"]\n",
    "sumofdemand6 = demand1[\"Demand\"].sum()\n",
    "\n"
   ]
  },
  {
   "cell_type": "code",
   "execution_count": 71,
   "metadata": {},
   "outputs": [
    {
     "name": "stdout",
     "output_type": "stream",
     "text": [
      "28171\n"
     ]
    }
   ],
   "source": [
    "#Calculating maximum supply for each 6 sources\n",
    "source1 = df[df[\"Source\"] ==  \"Boston University\"]\n",
    "sumofsource1 = source1[\"Supply\"].sum()\n",
    "\n",
    "source1 = df[df[\"Source\"] ==  \"Fenway\"]\n",
    "sumofsource2 = source1[\"Supply\"].sum()\n",
    "\n",
    "source1 = df[df[\"Source\"] ==  \"Haymarket Square\"]\n",
    "sumofsource3 = source1[\"Supply\"].sum()\n",
    "\n",
    "source1 = df[df[\"Source\"] ==  \"North End\"]\n",
    "sumofsource4 = source1[\"Supply\"].sum()\n",
    "\n",
    "source1 = df[df[\"Source\"] ==  \"Northeastern Univerisyt\"]\n",
    "sumofsource5 = source1[\"Supply\"].sum()\n",
    "\n",
    "source1 = df[df[\"Source\"] ==  \"South Station\"]\n",
    "sumofsource6 = source1[\"Supply\"].sum()\n",
    "\n",
    "dummysource = 4399  #We add dummy source because overall Demand > Supply\n",
    "\n",
    "\n"
   ]
  },
  {
   "cell_type": "code",
   "execution_count": 72,
   "metadata": {},
   "outputs": [],
   "source": [
    "#Data for linear optimization problem\n",
    "M = 7  #Supply points\n",
    "N = 6  #Demand points\n",
    "a = range(1, M+1)\n",
    "a1 = range(M)\n",
    "b = range(1, N+1)\n",
    "b1 = range(N)"
   ]
  },
  {
   "cell_type": "code",
   "execution_count": 73,
   "metadata": {},
   "outputs": [],
   "source": [
    "#Index list for decision variable x\n",
    "xindx = [(a[i],b[j]) for j in b1 for i in a1]"
   ]
  },
  {
   "cell_type": "code",
   "execution_count": 74,
   "metadata": {},
   "outputs": [
    {
     "name": "stderr",
     "output_type": "stream",
     "text": [
      "c:\\Python\\Python310\\lib\\site-packages\\pulp\\pulp.py:1352: UserWarning: Spaces are not permitted in the name. Converted to '_'\n",
      "  warnings.warn(\"Spaces are not permitted in the name. Converted to '_'\")\n"
     ]
    }
   ],
   "source": [
    "#Creation of the model that will contain the data and solve the LP\n",
    "model = LpProblem(\"Transportaion LP problem\", LpMinimize)\n",
    "\n",
    "#Creation of the decision variable\n",
    "x = LpVariable.dicts(\"X\",xindx,0,None)\n"
   ]
  },
  {
   "cell_type": "code",
   "execution_count": 75,
   "metadata": {},
   "outputs": [],
   "source": [
    "#The problem objective function\n",
    "model += 14.0*x[1,1] + 16.0*x[1,2] + 24.0*x[1,3] + 21.0*x[1,4] + 18.0*x[1,5] + 18.0*x[1,6] \\\n",
    "    +14.0*x[2,1]+17.0*x[2,2]+22.0*x[2,3]+19.0*x[2,4]+17.0*x[2,5]+17.0*x[2,6]\\\n",
    "    +17.0*x[3,1]+13.0*x[3,2]+12.0*x[3,3]+12.0*x[3,4]+13.0*x[3,5]+13.0*x[3,6]\\\n",
    "    +19.0*x[4,1]+16.0*x[4,2]+13.0*x[4,3]+12.0*x[4,4]+15.0*x[4,5]+15.0*x[4,6]\\\n",
    "    +13.0*x[5,1]+16.0*x[5,2]+22.0*x[5,3]+20.0*x[5,4]+15.0*x[5,5]+15.0*x[5,6]\\\n",
    "    +18.0*x[6,1]+16.0*x[6,2]+12.0*x[6,3]+15.0*x[6,4]+14.0*x[6,5]+14.0*x[6,6]\\\n",
    "    +0.0*x[7,1]+0.0*x[7,2]+0.0*x[7,3]+0.0*x[7,4]+0.0*x[7,5]+0.0*x[7,6]    #COST"
   ]
  },
  {
   "cell_type": "code",
   "execution_count": 76,
   "metadata": {},
   "outputs": [],
   "source": [
    "#Supply constsraints\n",
    "model += x[1,1] + x[1,2] + x[1,3] + x[1,4] + x[1,5] + x[1,6] <= sumofsource1\n",
    "model += x[2,1] + x[2,2] + x[2,3] + x[2,4] + x[2,5] + x[2,6] <= sumofsource2\n",
    "model += x[3,1] + x[3,2] + x[3,3] + x[3,4] + x[3,5] + x[3,6] <= sumofsource3\n",
    "model += x[4,1] + x[4,2] + x[4,3] + x[4,4] + x[4,5] + x[4,6] <= sumofsource4\n",
    "model += x[5,1] + x[5,2] + x[5,3] + x[5,4] + x[5,5] + x[5,6] <= sumofsource5\n",
    "model += x[6,1] + x[6,2] + x[6,3] + x[6,4] + x[6,5] + x[6,6] <= sumofsource6\n",
    "model += x[7,1] + x[7,2] + x[7,3] + x[7,4] + x[7,5] + x[7,6] <= dummysource"
   ]
  },
  {
   "cell_type": "code",
   "execution_count": 77,
   "metadata": {},
   "outputs": [],
   "source": [
    "#Demand constraints\n",
    "model += x[1,1] + x[2,1] + x[3,1] + x[4,1] + x[5,1] + x[6,1] + x[7,1] >= sumofdemand1\n",
    "model += x[1,2] + x[2,2] + x[3,2] + x[4,2] + x[5,2] + x[6,2] + x[7,2] >= sumofdemand2\n",
    "model += x[1,3] + x[2,3] + x[3,3] + x[4,3] + x[5,3] + x[6,3] + x[7,3] >= sumofdemand3\n",
    "model += x[1,4] + x[2,4] + x[3,4] + x[4,4] + x[5,4] + x[6,4] + x[7,4] >= sumofdemand4\n",
    "model += x[1,5] + x[2,5] + x[3,5] + x[4,5] + x[5,5] + x[6,5] + x[7,5] >= sumofdemand5\n",
    "model += x[1,6] + x[2,6] + x[3,6] + x[4,6] + x[5,6] + x[6,6] + x[7,6] >= sumofdemand6\n"
   ]
  },
  {
   "cell_type": "code",
   "execution_count": 78,
   "metadata": {},
   "outputs": [
    {
     "data": {
      "text/plain": [
       "1"
      ]
     },
     "execution_count": 78,
     "metadata": {},
     "output_type": "execute_result"
    }
   ],
   "source": [
    "model.solve()"
   ]
  },
  {
   "cell_type": "code",
   "execution_count": 79,
   "metadata": {},
   "outputs": [
    {
     "name": "stdout",
     "output_type": "stream",
     "text": [
      "Status:  Optimal\n"
     ]
    }
   ],
   "source": [
    "print(\"Status: \", LpStatus[model.status])"
   ]
  },
  {
   "cell_type": "code",
   "execution_count": 80,
   "metadata": {},
   "outputs": [
    {
     "name": "stdout",
     "output_type": "stream",
     "text": [
      "X_(1,_1) = 0.0\n",
      "X_(1,_2) = 4656.0\n",
      "X_(1,_3) = 0.0\n",
      "X_(1,_4) = 0.0\n",
      "X_(1,_5) = 0.0\n",
      "X_(1,_6) = 0.0\n",
      "X_(2,_1) = 4581.0\n",
      "X_(2,_2) = 193.0\n",
      "X_(2,_3) = 0.0\n",
      "X_(2,_4) = 0.0\n",
      "X_(2,_5) = 94.0\n",
      "X_(2,_6) = 0.0\n",
      "X_(3,_1) = 0.0\n",
      "X_(3,_2) = 0.0\n",
      "X_(3,_3) = 0.0\n",
      "X_(3,_4) = 0.0\n",
      "X_(3,_5) = 195.0\n",
      "X_(3,_6) = 4526.0\n",
      "X_(4,_1) = 0.0\n",
      "X_(4,_2) = 0.0\n",
      "X_(4,_3) = 83.0\n",
      "X_(4,_4) = 4684.0\n",
      "X_(4,_5) = 0.0\n",
      "X_(4,_6) = 44.0\n",
      "X_(5,_1) = 0.0\n",
      "X_(5,_2) = 0.0\n",
      "X_(5,_3) = 0.0\n",
      "X_(5,_4) = 0.0\n",
      "X_(5,_5) = 0.0\n",
      "X_(5,_6) = 0.0\n",
      "X_(6,_1) = 0.0\n",
      "X_(6,_2) = 0.0\n",
      "X_(6,_3) = 4716.0\n",
      "X_(6,_4) = 0.0\n",
      "X_(6,_5) = 0.0\n",
      "X_(6,_6) = 0.0\n",
      "X_(7,_1) = 0.0\n",
      "X_(7,_2) = 0.0\n",
      "X_(7,_3) = 0.0\n",
      "X_(7,_4) = 0.0\n",
      "X_(7,_5) = 4399.0\n",
      "X_(7,_6) = 0.0\n"
     ]
    }
   ],
   "source": [
    "for v in model.variables():\n",
    "    print(v.name, \"=\" , v.varValue)"
   ]
  },
  {
   "cell_type": "code",
   "execution_count": 81,
   "metadata": {},
   "outputs": [
    {
     "name": "stdout",
     "output_type": "stream",
     "text": [
      "objective Function 319421.0\n"
     ]
    }
   ],
   "source": [
    "print(\"objective Function\" , value(model.objective))"
   ]
  }
 ],
 "metadata": {
  "kernelspec": {
   "display_name": "Python 3.10.4 64-bit",
   "language": "python",
   "name": "python3"
  },
  "language_info": {
   "codemirror_mode": {
    "name": "ipython",
    "version": 3
   },
   "file_extension": ".py",
   "mimetype": "text/x-python",
   "name": "python",
   "nbconvert_exporter": "python",
   "pygments_lexer": "ipython3",
   "version": "3.10.4"
  },
  "orig_nbformat": 4,
  "vscode": {
   "interpreter": {
    "hash": "d3e10ef16274dd72e574b8fa73b58450b957d8421a2901baded3cca26fcf5dda"
   }
  }
 },
 "nbformat": 4,
 "nbformat_minor": 2
}
